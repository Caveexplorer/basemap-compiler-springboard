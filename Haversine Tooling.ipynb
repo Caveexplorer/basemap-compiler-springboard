{
 "cells": [
  {
   "cell_type": "code",
   "execution_count": 9,
   "id": "7e9868d3",
   "metadata": {},
   "outputs": [],
   "source": [
    "import pandas as pd\n",
    "import json\n",
    "import geopandas as gpd\n",
    "import matplotlib.pyplot as plt\n",
    "\n",
    "from sklearn.metrics.pairwise import haversine_distances\n",
    "from math import radians"
   ]
  },
  {
   "cell_type": "code",
   "execution_count": 4,
   "id": "d145936a",
   "metadata": {},
   "outputs": [
    {
     "data": {
      "text/html": [
       "<div>\n",
       "<style scoped>\n",
       "    .dataframe tbody tr th:only-of-type {\n",
       "        vertical-align: middle;\n",
       "    }\n",
       "\n",
       "    .dataframe tbody tr th {\n",
       "        vertical-align: top;\n",
       "    }\n",
       "\n",
       "    .dataframe thead th {\n",
       "        text-align: right;\n",
       "    }\n",
       "</style>\n",
       "<table border=\"1\" class=\"dataframe\">\n",
       "  <thead>\n",
       "    <tr style=\"text-align: right;\">\n",
       "      <th></th>\n",
       "      <th>_id</th>\n",
       "      <th>LOC_ID</th>\n",
       "      <th>LOC_NAME</th>\n",
       "      <th>AUSPICE</th>\n",
       "      <th>ADDRESS</th>\n",
       "      <th>PCODE</th>\n",
       "      <th>ward</th>\n",
       "      <th>PHONE</th>\n",
       "      <th>bldg_type</th>\n",
       "      <th>BLDGNAME</th>\n",
       "      <th>IGSPACE</th>\n",
       "      <th>TGSPACE</th>\n",
       "      <th>PGSPACE</th>\n",
       "      <th>KGSPACE</th>\n",
       "      <th>SGSPACE</th>\n",
       "      <th>TOTSPACE</th>\n",
       "      <th>subsidy</th>\n",
       "      <th>run_date</th>\n",
       "      <th>geometry</th>\n",
       "    </tr>\n",
       "  </thead>\n",
       "  <tbody>\n",
       "    <tr>\n",
       "      <th>0</th>\n",
       "      <td>1</td>\n",
       "      <td>1013</td>\n",
       "      <td>Lakeshore Community Child Care Centre</td>\n",
       "      <td>Non Profit Agency</td>\n",
       "      <td>101 SEVENTH ST</td>\n",
       "      <td>M8V 3B5</td>\n",
       "      <td>3</td>\n",
       "      <td>(416) 394-7601</td>\n",
       "      <td>Public Elementary School</td>\n",
       "      <td>Seventh Street Public School</td>\n",
       "      <td>0.0</td>\n",
       "      <td>20.0</td>\n",
       "      <td>32.0</td>\n",
       "      <td>52.0</td>\n",
       "      <td>60.0</td>\n",
       "      <td>164.0</td>\n",
       "      <td>Y</td>\n",
       "      <td>07NOV22</td>\n",
       "      <td>{'type': 'Point', 'coordinates': (-79.50419384...</td>\n",
       "    </tr>\n",
       "    <tr>\n",
       "      <th>1</th>\n",
       "      <td>2</td>\n",
       "      <td>1014</td>\n",
       "      <td>Alternative Primary School Parent Group</td>\n",
       "      <td>Non Profit Agency</td>\n",
       "      <td>1100 SPADINA RD</td>\n",
       "      <td>M5N 2M6</td>\n",
       "      <td>8</td>\n",
       "      <td>(416) 322-5385</td>\n",
       "      <td>Public Elementary School</td>\n",
       "      <td>North Preparatory Public School</td>\n",
       "      <td>0.0</td>\n",
       "      <td>0.0</td>\n",
       "      <td>12.0</td>\n",
       "      <td>26.0</td>\n",
       "      <td>45.0</td>\n",
       "      <td>83.0</td>\n",
       "      <td>Y</td>\n",
       "      <td>07NOV22</td>\n",
       "      <td>{'type': 'Point', 'coordinates': (-79.42037489...</td>\n",
       "    </tr>\n",
       "    <tr>\n",
       "      <th>2</th>\n",
       "      <td>3</td>\n",
       "      <td>1015</td>\n",
       "      <td>Cardinal Leger Child Care Centre (Scarborough)</td>\n",
       "      <td>Non Profit Agency</td>\n",
       "      <td>600 MORRISH RD</td>\n",
       "      <td>M1C 4Y1</td>\n",
       "      <td>25</td>\n",
       "      <td>(416) 287-0578</td>\n",
       "      <td>Catholic Elementary School</td>\n",
       "      <td>Cardinal Leger Catholic School</td>\n",
       "      <td>0.0</td>\n",
       "      <td>10.0</td>\n",
       "      <td>16.0</td>\n",
       "      <td>26.0</td>\n",
       "      <td>50.0</td>\n",
       "      <td>102.0</td>\n",
       "      <td>Y</td>\n",
       "      <td>07NOV22</td>\n",
       "      <td>{'type': 'Point', 'coordinates': (-79.17546162...</td>\n",
       "    </tr>\n",
       "    <tr>\n",
       "      <th>3</th>\n",
       "      <td>4</td>\n",
       "      <td>1016</td>\n",
       "      <td>George Brown - Richmond Adelaide Childcare Centre</td>\n",
       "      <td>Non Profit Agency</td>\n",
       "      <td>130 ADELAIDE ST W</td>\n",
       "      <td>M5H 3P5</td>\n",
       "      <td>10</td>\n",
       "      <td>(416) 415-2453</td>\n",
       "      <td>Other</td>\n",
       "      <td>NaN</td>\n",
       "      <td>10.0</td>\n",
       "      <td>15.0</td>\n",
       "      <td>40.0</td>\n",
       "      <td>0.0</td>\n",
       "      <td>0.0</td>\n",
       "      <td>65.0</td>\n",
       "      <td>Y</td>\n",
       "      <td>07NOV22</td>\n",
       "      <td>{'type': 'Point', 'coordinates': (-79.38381242...</td>\n",
       "    </tr>\n",
       "    <tr>\n",
       "      <th>4</th>\n",
       "      <td>5</td>\n",
       "      <td>1017</td>\n",
       "      <td>Woodland Nursery School (Warden Woods Communit...</td>\n",
       "      <td>Non Profit Agency</td>\n",
       "      <td>1 FIRVALLEY CRT</td>\n",
       "      <td>M1L 1N8</td>\n",
       "      <td>20</td>\n",
       "      <td>(416) 694-1138x163</td>\n",
       "      <td>High Rise Apartment</td>\n",
       "      <td>NaN</td>\n",
       "      <td>0.0</td>\n",
       "      <td>10.0</td>\n",
       "      <td>16.0</td>\n",
       "      <td>0.0</td>\n",
       "      <td>0.0</td>\n",
       "      <td>26.0</td>\n",
       "      <td>Y</td>\n",
       "      <td>07NOV22</td>\n",
       "      <td>{'type': 'Point', 'coordinates': (-79.28102862...</td>\n",
       "    </tr>\n",
       "  </tbody>\n",
       "</table>\n",
       "</div>"
      ],
      "text/plain": [
       "   _id  LOC_ID                                           LOC_NAME  \\\n",
       "0    1    1013              Lakeshore Community Child Care Centre   \n",
       "1    2    1014            Alternative Primary School Parent Group   \n",
       "2    3    1015     Cardinal Leger Child Care Centre (Scarborough)   \n",
       "3    4    1016  George Brown - Richmond Adelaide Childcare Centre   \n",
       "4    5    1017  Woodland Nursery School (Warden Woods Communit...   \n",
       "\n",
       "             AUSPICE            ADDRESS    PCODE  ward               PHONE  \\\n",
       "0  Non Profit Agency     101 SEVENTH ST  M8V 3B5     3      (416) 394-7601   \n",
       "1  Non Profit Agency    1100 SPADINA RD  M5N 2M6     8      (416) 322-5385   \n",
       "2  Non Profit Agency     600 MORRISH RD  M1C 4Y1    25      (416) 287-0578   \n",
       "3  Non Profit Agency  130 ADELAIDE ST W  M5H 3P5    10      (416) 415-2453   \n",
       "4  Non Profit Agency    1 FIRVALLEY CRT  M1L 1N8    20  (416) 694-1138x163   \n",
       "\n",
       "                    bldg_type                         BLDGNAME  IGSPACE  \\\n",
       "0    Public Elementary School     Seventh Street Public School      0.0   \n",
       "1    Public Elementary School  North Preparatory Public School      0.0   \n",
       "2  Catholic Elementary School   Cardinal Leger Catholic School      0.0   \n",
       "3                       Other                              NaN     10.0   \n",
       "4         High Rise Apartment                              NaN      0.0   \n",
       "\n",
       "   TGSPACE  PGSPACE  KGSPACE  SGSPACE  TOTSPACE subsidy run_date  \\\n",
       "0     20.0     32.0     52.0     60.0     164.0       Y  07NOV22   \n",
       "1      0.0     12.0     26.0     45.0      83.0       Y  07NOV22   \n",
       "2     10.0     16.0     26.0     50.0     102.0       Y  07NOV22   \n",
       "3     15.0     40.0      0.0      0.0      65.0       Y  07NOV22   \n",
       "4     10.0     16.0      0.0      0.0      26.0       Y  07NOV22   \n",
       "\n",
       "                                            geometry  \n",
       "0  {'type': 'Point', 'coordinates': (-79.50419384...  \n",
       "1  {'type': 'Point', 'coordinates': (-79.42037489...  \n",
       "2  {'type': 'Point', 'coordinates': (-79.17546162...  \n",
       "3  {'type': 'Point', 'coordinates': (-79.38381242...  \n",
       "4  {'type': 'Point', 'coordinates': (-79.28102862...  "
      ]
     },
     "execution_count": 4,
     "metadata": {},
     "output_type": "execute_result"
    }
   ],
   "source": [
    "childcare_df = pd.read_csv('raw_data\\Child care centres - 4326.csv')\n",
    "childcare_df.head()"
   ]
  },
  {
   "cell_type": "code",
   "execution_count": 5,
   "id": "8223511d",
   "metadata": {},
   "outputs": [
    {
     "data": {
      "text/plain": [
       "pandas.core.series.Series"
      ]
     },
     "execution_count": 5,
     "metadata": {},
     "output_type": "execute_result"
    }
   ],
   "source": [
    "geometry = childcare_df['geometry']\n",
    "type(geometry)"
   ]
  },
  {
   "cell_type": "code",
   "execution_count": 6,
   "id": "8c7d038a",
   "metadata": {},
   "outputs": [
    {
     "data": {
      "text/plain": [
       "0       {'type': 'Point', 'coordinates': (-79.50419384...\n",
       "1       {'type': 'Point', 'coordinates': (-79.42037489...\n",
       "2       {'type': 'Point', 'coordinates': (-79.17546162...\n",
       "3       {'type': 'Point', 'coordinates': (-79.38381242...\n",
       "4       {'type': 'Point', 'coordinates': (-79.28102862...\n",
       "                              ...                        \n",
       "1050    {'type': 'Point', 'coordinates': (-79.29868211...\n",
       "1051    {'type': 'Point', 'coordinates': (-79.41076923...\n",
       "1052    {'type': 'Point', 'coordinates': (-79.32299937...\n",
       "1053    {'type': 'Point', 'coordinates': (-79.44440412...\n",
       "1054    {'type': 'Point', 'coordinates': (-79.50885761...\n",
       "Name: geometry, Length: 1055, dtype: object"
      ]
     },
     "execution_count": 6,
     "metadata": {},
     "output_type": "execute_result"
    }
   ],
   "source": [
    "geometry"
   ]
  },
  {
   "cell_type": "code",
   "execution_count": 15,
   "id": "7e3790b7",
   "metadata": {},
   "outputs": [
    {
     "data": {
      "text/plain": [
       "dict_keys(['type', 'coordinates'])"
      ]
     },
     "execution_count": 15,
     "metadata": {},
     "output_type": "execute_result"
    }
   ],
   "source": [
    "entry_1 = eval(geometry[0])\n",
    "entry_1.keys()"
   ]
  },
  {
   "cell_type": "code",
   "execution_count": 17,
   "id": "dc65d916",
   "metadata": {},
   "outputs": [
    {
     "data": {
      "text/plain": [
       "dict_values"
      ]
     },
     "execution_count": 17,
     "metadata": {},
     "output_type": "execute_result"
    }
   ],
   "source": [
    "list(entry_1.keys())"
   ]
  }
 ],
 "metadata": {
  "kernelspec": {
   "display_name": "Python 3 (ipykernel)",
   "language": "python",
   "name": "python3"
  },
  "language_info": {
   "codemirror_mode": {
    "name": "ipython",
    "version": 3
   },
   "file_extension": ".py",
   "mimetype": "text/x-python",
   "name": "python",
   "nbconvert_exporter": "python",
   "pygments_lexer": "ipython3",
   "version": "3.8.8"
  }
 },
 "nbformat": 4,
 "nbformat_minor": 5
}
